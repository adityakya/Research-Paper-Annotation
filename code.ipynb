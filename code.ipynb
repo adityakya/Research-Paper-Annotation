{
 "cells": [
  {
   "cell_type": "code",
   "execution_count": 1,
   "metadata": {},
   "outputs": [],
   "source": [
    "import numpy as np\n",
    "import pandas as pd\n",
    "import matplotlib.pyplot as plt\n",
    "import seaborn as sns\n",
    "\n",
    "import tqdm\n",
    "import os\n",
    "import re\n",
    "\n",
    "from sklearn.feature_extraction.text import CountVectorizer\n",
    "from sklearn.naive_bayes import MultinomialNB\n",
    "from sklearn.model_selection import train_test_split\n",
    "from sklearn.metrics import f1_score,confusion_matrix,roc_auc_score\n",
    "from sklearn.linear_model import LogisticRegression"
   ]
  },
  {
   "cell_type": "code",
   "execution_count": 2,
   "metadata": {
    "scrolled": true
   },
   "outputs": [
    {
     "name": "stdout",
     "output_type": "stream",
     "text": [
      "arxiv_annotate10_7_1.txt\n",
      "arxiv_annotate10_7_2.txt\n",
      "arxiv_annotate10_7_3.txt\n",
      "arxiv_annotate1_13_1.txt\n",
      "arxiv_annotate1_13_2.txt\n",
      "arxiv_annotate1_13_3.txt\n",
      "arxiv_annotate2_66_1.txt\n",
      "arxiv_annotate2_66_2.txt\n",
      "arxiv_annotate2_66_3.txt\n",
      "arxiv_annotate3_80_1.txt\n",
      "arxiv_annotate3_80_2.txt\n",
      "arxiv_annotate3_80_3.txt\n",
      "arxiv_annotate4_168_1.txt\n",
      "arxiv_annotate4_168_2.txt\n",
      "arxiv_annotate4_168_3.txt\n",
      "arxiv_annotate5_240_1.txt\n",
      "arxiv_annotate5_240_2.txt\n",
      "arxiv_annotate5_240_3.txt\n",
      "arxiv_annotate6_52_1.txt\n",
      "arxiv_annotate6_52_2.txt\n",
      "arxiv_annotate6_52_3.txt\n",
      "arxiv_annotate7_268_1.txt\n",
      "arxiv_annotate7_268_2.txt\n",
      "arxiv_annotate7_268_3.txt\n",
      "arxiv_annotate8_81_1.txt\n",
      "arxiv_annotate8_81_2.txt\n",
      "arxiv_annotate8_81_3.txt\n",
      "arxiv_annotate9_279_1.txt\n",
      "arxiv_annotate9_279_2.txt\n",
      "arxiv_annotate9_279_3.txt\n",
      "jdm_annotate10_210_1.txt\n",
      "jdm_annotate10_210_2.txt\n",
      "jdm_annotate10_210_3.txt\n",
      "jdm_annotate1_103_1.txt\n",
      "jdm_annotate1_103_2.txt\n",
      "jdm_annotate1_103_3.txt\n",
      "jdm_annotate2_107_1.txt\n",
      "jdm_annotate2_107_2.txt\n",
      "jdm_annotate2_107_3.txt\n",
      "jdm_annotate3_120_1.txt\n",
      "jdm_annotate3_120_2.txt\n",
      "jdm_annotate3_120_3.txt\n",
      "jdm_annotate4_220_1.txt\n",
      "jdm_annotate4_220_2.txt\n",
      "jdm_annotate4_220_3.txt\n",
      "jdm_annotate5_228_1.txt\n",
      "jdm_annotate5_228_2.txt\n",
      "jdm_annotate5_228_3.txt\n",
      "jdm_annotate6_32_1.txt\n",
      "jdm_annotate6_32_2.txt\n",
      "jdm_annotate6_32_3.txt\n",
      "jdm_annotate7_265_1.txt\n",
      "jdm_annotate7_265_2.txt\n",
      "jdm_annotate7_265_3.txt\n",
      "jdm_annotate8_177_1.txt\n",
      "jdm_annotate8_177_2.txt\n",
      "jdm_annotate8_177_3.txt\n",
      "jdm_annotate9_45_1.txt\n",
      "jdm_annotate9_45_2.txt\n",
      "jdm_annotate9_45_3.txt\n",
      "plos_annotate10_1140_1.txt\n",
      "plos_annotate10_1140_2.txt\n",
      "plos_annotate10_1140_3.txt\n",
      "plos_annotate1_6_1.txt\n",
      "plos_annotate1_6_2.txt\n",
      "plos_annotate1_6_3.txt\n",
      "plos_annotate2_336_1.txt\n",
      "plos_annotate2_336_2.txt\n",
      "plos_annotate2_336_3.txt\n",
      "plos_annotate3_798_1.txt\n",
      "plos_annotate3_798_2.txt\n",
      "plos_annotate3_798_3.txt\n",
      "plos_annotate4_1052_1.txt\n",
      "plos_annotate4_1052_2.txt\n",
      "plos_annotate4_1052_3.txt\n",
      "plos_annotate5_1375_1.txt\n",
      "plos_annotate5_1375_2.txt\n",
      "plos_annotate5_1375_3.txt\n",
      "plos_annotate6_1032_1.txt\n",
      "plos_annotate6_1032_2.txt\n",
      "plos_annotate6_1032_3.txt\n",
      "plos_annotate7_1233_1.txt\n",
      "plos_annotate7_1233_2.txt\n",
      "plos_annotate7_1233_3.txt\n",
      "plos_annotate8_123_1.txt\n",
      "plos_annotate8_123_2.txt\n",
      "plos_annotate8_123_3.txt\n",
      "plos_annotate9_1187_1.txt\n",
      "plos_annotate9_1187_2.txt\n",
      "plos_annotate9_1187_3.txt\n"
     ]
    }
   ],
   "source": [
    "path='SentenceCorpus/labeled_articles/'\n",
    "train=pd.DataFrame()\n",
    "targets=['AIMX','OWNX','MISC','CONT','BASE']\n",
    "for name in os.listdir(path):\n",
    "    if '.txt' in name:\n",
    "        print(name)\n",
    "        f=open(path+name,'r')\n",
    "        sentences=[]\n",
    "        labels=[]\n",
    "        names=[]\n",
    "        for line in f:\n",
    "            if '## abstract ##' not in line and '## introduction ##' not in line:\n",
    "                # name of the label has length 4\n",
    "                line=line.replace('\\t',' ')\n",
    "                line=line.replace('--',' ')\n",
    "                label=line[0:4]\n",
    "                content=line[5:-1]\n",
    "                for target in targets:\n",
    "                    if target in content:\n",
    "                        content=content.replace(target,'')\n",
    "            \n",
    "                sentences.append(content)\n",
    "                labels.append(label)\n",
    "                names.append(name)\n",
    "            \n",
    "        info=pd.DataFrame()\n",
    "        info['DocumentName']=names\n",
    "        info['Sentences']=pd.Series(sentences)\n",
    "        info['Label']=pd.Series(labels)\n",
    "        \n",
    "        train=pd.concat([train,info],ignore_index=True)"
   ]
  },
  {
   "cell_type": "code",
   "execution_count": 3,
   "metadata": {
    "scrolled": true
   },
   "outputs": [
    {
     "name": "stdout",
     "output_type": "stream",
     "text": [
      "(3117, 3)\n"
     ]
    },
    {
     "data": {
      "text/html": [
       "<div>\n",
       "<style scoped>\n",
       "    .dataframe tbody tr th:only-of-type {\n",
       "        vertical-align: middle;\n",
       "    }\n",
       "\n",
       "    .dataframe tbody tr th {\n",
       "        vertical-align: top;\n",
       "    }\n",
       "\n",
       "    .dataframe thead th {\n",
       "        text-align: right;\n",
       "    }\n",
       "</style>\n",
       "<table border=\"1\" class=\"dataframe\">\n",
       "  <thead>\n",
       "    <tr style=\"text-align: right;\">\n",
       "      <th></th>\n",
       "      <th>DocumentName</th>\n",
       "      <th>Sentences</th>\n",
       "      <th>Label</th>\n",
       "    </tr>\n",
       "  </thead>\n",
       "  <tbody>\n",
       "    <tr>\n",
       "      <th>0</th>\n",
       "      <td>arxiv_annotate10_7_1.txt</td>\n",
       "      <td>The Minimum Description Length principle for o...</td>\n",
       "      <td>MISC</td>\n",
       "    </tr>\n",
       "    <tr>\n",
       "      <th>1</th>\n",
       "      <td>arxiv_annotate10_7_1.txt</td>\n",
       "      <td>If the underlying model class is discrete, the...</td>\n",
       "      <td>MISC</td>\n",
       "    </tr>\n",
       "    <tr>\n",
       "      <th>2</th>\n",
       "      <td>arxiv_annotate10_7_1.txt</td>\n",
       "      <td>For MDL, in general one can only have loss bou...</td>\n",
       "      <td>MISC</td>\n",
       "    </tr>\n",
       "    <tr>\n",
       "      <th>3</th>\n",
       "      <td>arxiv_annotate10_7_1.txt</td>\n",
       "      <td>We show that this is even the case if the mode...</td>\n",
       "      <td>AIMX</td>\n",
       "    </tr>\n",
       "    <tr>\n",
       "      <th>4</th>\n",
       "      <td>arxiv_annotate10_7_1.txt</td>\n",
       "      <td>We derive a new upper bound on the prediction ...</td>\n",
       "      <td>OWNX</td>\n",
       "    </tr>\n",
       "    <tr>\n",
       "      <th>5</th>\n",
       "      <td>arxiv_annotate10_7_1.txt</td>\n",
       "      <td>This implies a small bound (comparable to the ...</td>\n",
       "      <td>OWNX</td>\n",
       "    </tr>\n",
       "    <tr>\n",
       "      <th>6</th>\n",
       "      <td>arxiv_annotate10_7_1.txt</td>\n",
       "      <td>We discuss the application to Machine Learning...</td>\n",
       "      <td>OWNX</td>\n",
       "    </tr>\n",
       "    <tr>\n",
       "      <th>7</th>\n",
       "      <td>arxiv_annotate10_7_1.txt</td>\n",
       "      <td>``Bayes mixture\", ``Solomonoff induction\", ``m...</td>\n",
       "      <td>MISC</td>\n",
       "    </tr>\n",
       "    <tr>\n",
       "      <th>8</th>\n",
       "      <td>arxiv_annotate10_7_1.txt</td>\n",
       "      <td>In many cases however, the Bayes mixture is co...</td>\n",
       "      <td>CONT</td>\n",
       "    </tr>\n",
       "    <tr>\n",
       "      <th>9</th>\n",
       "      <td>arxiv_annotate10_7_1.txt</td>\n",
       "      <td>The MDL or MAP (maximum a posteriori) estimato...</td>\n",
       "      <td>MISC</td>\n",
       "    </tr>\n",
       "  </tbody>\n",
       "</table>\n",
       "</div>"
      ],
      "text/plain": [
       "               DocumentName  \\\n",
       "0  arxiv_annotate10_7_1.txt   \n",
       "1  arxiv_annotate10_7_1.txt   \n",
       "2  arxiv_annotate10_7_1.txt   \n",
       "3  arxiv_annotate10_7_1.txt   \n",
       "4  arxiv_annotate10_7_1.txt   \n",
       "5  arxiv_annotate10_7_1.txt   \n",
       "6  arxiv_annotate10_7_1.txt   \n",
       "7  arxiv_annotate10_7_1.txt   \n",
       "8  arxiv_annotate10_7_1.txt   \n",
       "9  arxiv_annotate10_7_1.txt   \n",
       "\n",
       "                                           Sentences Label  \n",
       "0  The Minimum Description Length principle for o...  MISC  \n",
       "1  If the underlying model class is discrete, the...  MISC  \n",
       "2  For MDL, in general one can only have loss bou...  MISC  \n",
       "3  We show that this is even the case if the mode...  AIMX  \n",
       "4  We derive a new upper bound on the prediction ...  OWNX  \n",
       "5  This implies a small bound (comparable to the ...  OWNX  \n",
       "6  We discuss the application to Machine Learning...  OWNX  \n",
       "7  ``Bayes mixture\", ``Solomonoff induction\", ``m...  MISC  \n",
       "8  In many cases however, the Bayes mixture is co...  CONT  \n",
       "9  The MDL or MAP (maximum a posteriori) estimato...  MISC  "
      ]
     },
     "execution_count": 3,
     "metadata": {},
     "output_type": "execute_result"
    }
   ],
   "source": [
    "print(train.shape)\n",
    "train.head(10)"
   ]
  },
  {
   "cell_type": "code",
   "execution_count": 4,
   "metadata": {},
   "outputs": [
    {
     "name": "stdout",
     "output_type": "stream",
     "text": [
      "Done\n"
     ]
    }
   ],
   "source": [
    "train.to_csv(\"train.tsv\",sep='\\t',index=False)\n",
    "print(\"Done\")"
   ]
  },
  {
   "cell_type": "code",
   "execution_count": 5,
   "metadata": {
    "scrolled": true
   },
   "outputs": [
    {
     "name": "stderr",
     "output_type": "stream",
     "text": [
      "C:\\Users\\WIN 10\\anaconda3\\lib\\site-packages\\seaborn\\_decorators.py:36: FutureWarning: Pass the following variable as a keyword arg: x. From version 0.12, the only valid positional argument will be `data`, and passing other arguments without an explicit keyword will result in an error or misinterpretation.\n",
      "  warnings.warn(\n"
     ]
    },
    {
     "data": {
      "text/plain": [
       "<AxesSubplot:xlabel='Label', ylabel='count'>"
      ]
     },
     "execution_count": 5,
     "metadata": {},
     "output_type": "execute_result"
    },
    {
     "data": {
      "image/png": "[encoded data removed]",
      "text/plain": [
       "<Figure size 432x288 with 1 Axes>"
      ]
     },
     "metadata": {
      "needs_background": "light"
     },
     "output_type": "display_data"
    }
   ],
   "source": [
    "sns.countplot(train.Label)"
   ]
  },
  {
   "cell_type": "code",
   "execution_count": 6,
   "metadata": {},
   "outputs": [],
   "source": [
    "f=open('SentenceCorpus/word_lists/stopwords.txt','r')\n",
    "stop_words=[]\n",
    "for line in f:\n",
    "    stop_words.append(line[:-1])\n",
    "    \n",
    "def cleaner(x):\n",
    "    \n",
    "    x=re.sub('[^a-zA-Z]',' ',x)\n",
    "    x=x.lower()\n",
    "    k=[]\n",
    "    for word in x.split():\n",
    "        if word in stop_words:\n",
    "            None\n",
    "        else:\n",
    "            k.append(word)\n",
    "    \n",
    "    x=\" \".join(k)\n",
    "\n",
    "    \n",
    "    return \" \".join(x.split())"
   ]
  },
  {
   "cell_type": "code",
   "execution_count": 7,
   "metadata": {
    "scrolled": true
   },
   "outputs": [
    {
     "name": "stdout",
     "output_type": "stream",
     "text": [
      "(3117, 3)\n"
     ]
    },
    {
     "data": {
      "text/html": [
       "<div>\n",
       "<style scoped>\n",
       "    .dataframe tbody tr th:only-of-type {\n",
       "        vertical-align: middle;\n",
       "    }\n",
       "\n",
       "    .dataframe tbody tr th {\n",
       "        vertical-align: top;\n",
       "    }\n",
       "\n",
       "    .dataframe thead th {\n",
       "        text-align: right;\n",
       "    }\n",
       "</style>\n",
       "<table border=\"1\" class=\"dataframe\">\n",
       "  <thead>\n",
       "    <tr style=\"text-align: right;\">\n",
       "      <th></th>\n",
       "      <th>DocumentName</th>\n",
       "      <th>Sentences</th>\n",
       "      <th>Label</th>\n",
       "    </tr>\n",
       "  </thead>\n",
       "  <tbody>\n",
       "    <tr>\n",
       "      <th>0</th>\n",
       "      <td>arxiv_annotate10_7_1.txt</td>\n",
       "      <td>minimum description length principle online se...</td>\n",
       "      <td>MISC</td>\n",
       "    </tr>\n",
       "    <tr>\n",
       "      <th>1</th>\n",
       "      <td>arxiv_annotate10_7_1.txt</td>\n",
       "      <td>if underlying model class discrete then total ...</td>\n",
       "      <td>MISC</td>\n",
       "    </tr>\n",
       "    <tr>\n",
       "      <th>2</th>\n",
       "      <td>arxiv_annotate10_7_1.txt</td>\n",
       "      <td>mdl general one only loss bounds finite but ex...</td>\n",
       "      <td>MISC</td>\n",
       "    </tr>\n",
       "    <tr>\n",
       "      <th>3</th>\n",
       "      <td>arxiv_annotate10_7_1.txt</td>\n",
       "      <td>we show this even case if model class contains...</td>\n",
       "      <td>AIMX</td>\n",
       "    </tr>\n",
       "    <tr>\n",
       "      <th>4</th>\n",
       "      <td>arxiv_annotate10_7_1.txt</td>\n",
       "      <td>we derive new upper bound prediction error cou...</td>\n",
       "      <td>OWNX</td>\n",
       "    </tr>\n",
       "  </tbody>\n",
       "</table>\n",
       "</div>"
      ],
      "text/plain": [
       "               DocumentName  \\\n",
       "0  arxiv_annotate10_7_1.txt   \n",
       "1  arxiv_annotate10_7_1.txt   \n",
       "2  arxiv_annotate10_7_1.txt   \n",
       "3  arxiv_annotate10_7_1.txt   \n",
       "4  arxiv_annotate10_7_1.txt   \n",
       "\n",
       "                                           Sentences Label  \n",
       "0  minimum description length principle online se...  MISC  \n",
       "1  if underlying model class discrete then total ...  MISC  \n",
       "2  mdl general one only loss bounds finite but ex...  MISC  \n",
       "3  we show this even case if model class contains...  AIMX  \n",
       "4  we derive new upper bound prediction error cou...  OWNX  "
      ]
     },
     "execution_count": 7,
     "metadata": {},
     "output_type": "execute_result"
    }
   ],
   "source": [
    "train['Sentences']=train['Sentences'].apply(cleaner)\n",
    "print(train.shape)\n",
    "train.head()"
   ]
  },
  {
   "cell_type": "code",
   "execution_count": 8,
   "metadata": {},
   "outputs": [
    {
     "data": {
      "text/html": [
       "<div>\n",
       "<style scoped>\n",
       "    .dataframe tbody tr th:only-of-type {\n",
       "        vertical-align: middle;\n",
       "    }\n",
       "\n",
       "    .dataframe tbody tr th {\n",
       "        vertical-align: top;\n",
       "    }\n",
       "\n",
       "    .dataframe thead th {\n",
       "        text-align: right;\n",
       "    }\n",
       "</style>\n",
       "<table border=\"1\" class=\"dataframe\">\n",
       "  <thead>\n",
       "    <tr style=\"text-align: right;\">\n",
       "      <th></th>\n",
       "      <th>DocumentName</th>\n",
       "      <th>Sentences</th>\n",
       "      <th>Label</th>\n",
       "    </tr>\n",
       "  </thead>\n",
       "  <tbody>\n",
       "    <tr>\n",
       "      <th>280</th>\n",
       "      <td>arxiv_annotate1_13_3.txt</td>\n",
       "      <td>topology modeling knowledge types mandatory au...</td>\n",
       "      <td>MISC</td>\n",
       "    </tr>\n",
       "  </tbody>\n",
       "</table>\n",
       "</div>"
      ],
      "text/plain": [
       "                 DocumentName  \\\n",
       "280  arxiv_annotate1_13_3.txt   \n",
       "\n",
       "                                             Sentences Label  \n",
       "280  topology modeling knowledge types mandatory au...  MISC  "
      ]
     },
     "metadata": {},
     "output_type": "display_data"
    },
    {
     "name": "stdout",
     "output_type": "stream",
     "text": [
      "(1749, 3)\n"
     ]
    }
   ],
   "source": [
    "idx=280\n",
    "display(train.loc[(train['DocumentName']==train.iloc[idx,0]) & (train['Sentences']==train.iloc[idx,1]) &\n",
    "                  (train['Label']==train.iloc[idx,2])])\n",
    "\n",
    "p=train[['Sentences','Label']]\n",
    "print(train[p.duplicated()].shape)"
   ]
  },
  {
   "cell_type": "code",
   "execution_count": 9,
   "metadata": {},
   "outputs": [
    {
     "name": "stdout",
     "output_type": "stream",
     "text": [
      "The Vocabulary size is 3938\n"
     ]
    }
   ],
   "source": [
    "corpus=set()\n",
    "for line in train.Sentences:\n",
    "    for word in line.split():\n",
    "        corpus.add(word)\n",
    "\n",
    "corpus=list(corpus)\n",
    "corpus.sort()\n",
    "print(\"The Vocabulary size is\",len(corpus))"
   ]
  },
  {
   "cell_type": "code",
   "execution_count": 10,
   "metadata": {},
   "outputs": [
    {
     "data": {
      "text/plain": [
       "CountVectorizer(max_features=1000)"
      ]
     },
     "execution_count": 10,
     "metadata": {},
     "output_type": "execute_result"
    }
   ],
   "source": [
    "vectorizer=CountVectorizer(tokenizer=None,preprocessor=None,max_features=1000,stop_words=None)\n",
    "vectorizer.fit(train.Sentences.values)"
   ]
  },
  {
   "cell_type": "code",
   "execution_count": 11,
   "metadata": {},
   "outputs": [
    {
     "name": "stdout",
     "output_type": "stream",
     "text": [
      "Training Shape (3117, 1000) (3117,)\n"
     ]
    }
   ],
   "source": [
    "X=train.iloc[:,1].values\n",
    "y=train.iloc[:,2]\n",
    "\n",
    "# transformer\n",
    "encoder={name:idx for idx,name in enumerate(y.unique())}\n",
    "\n",
    "decoder={idx:name for idx,name in enumerate(y.unique())}\n",
    "\n",
    "y=y.map(encoder).values\n",
    "X=vectorizer.transform(X)\n",
    "\n",
    "\n",
    "print(\"Training Shape\",X.shape,y.shape)"
   ]
  },
  {
   "cell_type": "code",
   "execution_count": 12,
   "metadata": {},
   "outputs": [
    {
     "name": "stdout",
     "output_type": "stream",
     "text": [
      "(2493, 1000) (2493,)\n",
      "(624, 1000) (624,)\n"
     ]
    }
   ],
   "source": [
    "X_train,X_val,y_train,y_val=train_test_split(X,y,stratify=y,test_size=0.2,random_state=42)\n",
    "\n",
    "print(X_train.shape,y_train.shape)\n",
    "print(X_val.shape,y_val.shape)"
   ]
  },
  {
   "cell_type": "code",
   "execution_count": 13,
   "metadata": {
    "scrolled": true
   },
   "outputs": [
    {
     "name": "stdout",
     "output_type": "stream",
     "text": [
      "Training Score 0.8247091857200161\n",
      "Validation SCore 0.7403846153846154\n",
      "Training F1 score 0.7404537949660075\n",
      "Validation F1 score 0.591998822309755\n"
     ]
    }
   ],
   "source": [
    "clf=MultinomialNB()\n",
    "clf.fit(X_train,y_train)\n",
    "print(\"Training Score\",clf.score(X_train,y_train))\n",
    "print(\"Validation SCore\",clf.score(X_val,y_val))\n",
    "print(\"Training F1 score\",f1_score(y_train,clf.predict(X_train),average='macro'))\n",
    "print(\"Validation F1 score\",f1_score(y_val,clf.predict(X_val),average='macro'))"
   ]
  },
  {
   "cell_type": "code",
   "execution_count": 14,
   "metadata": {},
   "outputs": [
    {
     "name": "stdout",
     "output_type": "stream",
     "text": [
      "Training Score 0.9113517849979944\n",
      "Validation SCore 0.8301282051282052\n",
      "Training F1 score 0.854621550176376\n",
      "Validation F1 score 0.7241386614830687\n"
     ]
    }
   ],
   "source": [
    "lr=LogisticRegression(penalty='l1',solver='liblinear',C=6,class_weight='balanced')\n",
    "lr.fit(X_train,y_train)\n",
    "print(\"Training Score\",lr.score(X_train,y_train))\n",
    "print(\"Validation SCore\",lr.score(X_val,y_val))\n",
    "print(\"Training F1 score\",f1_score(y_train,lr.predict(X_train),average='macro'))\n",
    "print(\"Validation F1 score\",f1_score(y_val,lr.predict(X_val),average='macro'))"
   ]
  },
  {
   "cell_type": "code",
   "execution_count": 15,
   "metadata": {},
   "outputs": [
    {
     "name": "stdout",
     "output_type": "stream",
     "text": [
      "Training Score 0.9101484155635781\n",
      "Validation SCore 0.8381410256410257\n",
      "Training F1 score 0.853908499408092\n",
      "Validation F1 score 0.727769804621224\n"
     ]
    }
   ],
   "source": [
    "lr=LogisticRegression(penalty='l2',solver='liblinear',C=2,class_weight='balanced')\n",
    "lr.fit(X_train,y_train)\n",
    "print(\"Training Score\",lr.score(X_train,y_train))\n",
    "print(\"Validation SCore\",lr.score(X_val,y_val))\n",
    "print(\"Training F1 score\",f1_score(y_train,lr.predict(X_train),average='macro'))\n",
    "print(\"Validation F1 score\",f1_score(y_val,lr.predict(X_val),average='macro'))"
   ]
  },
  {
   "cell_type": "code",
   "execution_count": 16,
   "metadata": {},
   "outputs": [
    {
     "data": {
      "text/plain": [
       "array([[320,   1,  22,  20,   2],\n",
       "       [  0,  31,   8,   0,   0],\n",
       "       [ 13,  12, 143,   2,   4],\n",
       "       [ 10,   1,   3,  20,   0],\n",
       "       [  0,   1,   2,   0,   9]], dtype=int64)"
      ]
     },
     "execution_count": 16,
     "metadata": {},
     "output_type": "execute_result"
    }
   ],
   "source": [
    "confusion_matrix(y_val,lr.predict(X_val))"
   ]
  },
  {
   "cell_type": "code",
   "execution_count": 17,
   "metadata": {},
   "outputs": [
    {
     "data": {
      "text/plain": [
       "365"
      ]
     },
     "execution_count": 17,
     "metadata": {},
     "output_type": "execute_result"
    }
   ],
   "source": [
    "np.sum(y_val==0)"
   ]
  },
  {
   "cell_type": "markdown",
   "metadata": {},
   "source": [
    "## PREPROCESSING TEST DATA"
   ]
  },
  {
   "cell_type": "code",
   "execution_count": 18,
   "metadata": {},
   "outputs": [
    {
     "name": "stderr",
     "output_type": "stream",
     "text": [
      "100%|███████████████████████████████████████████████████████████████████████████████| 300/300 [00:01<00:00, 215.84it/s]\n",
      "100%|███████████████████████████████████████████████████████████████████████████████| 300/300 [00:01<00:00, 180.46it/s]\n",
      "100%|███████████████████████████████████████████████████████████████████████████████| 300/300 [00:02<00:00, 123.29it/s]\n"
     ]
    }
   ],
   "source": [
    "test=pd.DataFrame()\n",
    "p = \"SentenceCorpus/unlabeled_articles/\"\n",
    "unlabelDoc=os.listdir(p)\n",
    "for folder in unlabelDoc:\n",
    "    listfiles=os.listdir(p+folder)\n",
    "    for filename in tqdm.tqdm(listfiles):\n",
    "        path = p+folder+\"/\"+filename\n",
    "        file = open(path, \"r\",errors='ignore')\n",
    "        sentences=[]\n",
    "        names=[]\n",
    "        for line in file:\n",
    "            if '## abstract ##' not in line and '## introduction ##' not in line:\n",
    "                # name of the label has length 4\n",
    "                line=line.replace('\\t',' ')\n",
    "                line=line.replace('--',' ')\n",
    "                \n",
    "                sentences.append(line)\n",
    "                names.append(folder+\" \"+filename)\n",
    "        \n",
    "        info=pd.DataFrame()\n",
    "        info['DocumentName']=names\n",
    "        info['Sentences']=pd.Series(sentences)\n",
    "        test=pd.concat([test,info],ignore_index=True)"
   ]
  },
  {
   "cell_type": "code",
   "execution_count": 19,
   "metadata": {},
   "outputs": [
    {
     "name": "stdout",
     "output_type": "stream",
     "text": [
      "(35271, 2)\n"
     ]
    },
    {
     "data": {
      "text/html": [
       "<div>\n",
       "<style scoped>\n",
       "    .dataframe tbody tr th:only-of-type {\n",
       "        vertical-align: middle;\n",
       "    }\n",
       "\n",
       "    .dataframe tbody tr th {\n",
       "        vertical-align: top;\n",
       "    }\n",
       "\n",
       "    .dataframe thead th {\n",
       "        text-align: right;\n",
       "    }\n",
       "</style>\n",
       "<table border=\"1\" class=\"dataframe\">\n",
       "  <thead>\n",
       "    <tr style=\"text-align: right;\">\n",
       "      <th></th>\n",
       "      <th>DocumentName</th>\n",
       "      <th>Sentences</th>\n",
       "    </tr>\n",
       "  </thead>\n",
       "  <tbody>\n",
       "    <tr>\n",
       "      <th>0</th>\n",
       "      <td>arxiv_unlabeled 1.txt</td>\n",
       "      <td>Fitness functions based on test cases are very...</td>\n",
       "    </tr>\n",
       "    <tr>\n",
       "      <th>1</th>\n",
       "      <td>arxiv_unlabeled 1.txt</td>\n",
       "      <td>This process can be assimilated to a learning ...</td>\n",
       "    </tr>\n",
       "    <tr>\n",
       "      <th>2</th>\n",
       "      <td>arxiv_unlabeled 1.txt</td>\n",
       "      <td>This paper is an investigation on two methods ...</td>\n",
       "    </tr>\n",
       "    <tr>\n",
       "      <th>3</th>\n",
       "      <td>arxiv_unlabeled 1.txt</td>\n",
       "      <td>Results using GP in a binary classification se...</td>\n",
       "    </tr>\n",
       "    <tr>\n",
       "      <th>4</th>\n",
       "      <td>arxiv_unlabeled 1.txt</td>\n",
       "      <td>GP is particularly suited for problems that ca...</td>\n",
       "    </tr>\n",
       "  </tbody>\n",
       "</table>\n",
       "</div>"
      ],
      "text/plain": [
       "            DocumentName                                          Sentences\n",
       "0  arxiv_unlabeled 1.txt  Fitness functions based on test cases are very...\n",
       "1  arxiv_unlabeled 1.txt  This process can be assimilated to a learning ...\n",
       "2  arxiv_unlabeled 1.txt  This paper is an investigation on two methods ...\n",
       "3  arxiv_unlabeled 1.txt  Results using GP in a binary classification se...\n",
       "4  arxiv_unlabeled 1.txt  GP is particularly suited for problems that ca..."
      ]
     },
     "execution_count": 19,
     "metadata": {},
     "output_type": "execute_result"
    }
   ],
   "source": [
    "print(test.shape)\n",
    "test.head()"
   ]
  },
  {
   "cell_type": "code",
   "execution_count": 20,
   "metadata": {},
   "outputs": [
    {
     "data": {
      "text/html": [
       "<div>\n",
       "<style scoped>\n",
       "    .dataframe tbody tr th:only-of-type {\n",
       "        vertical-align: middle;\n",
       "    }\n",
       "\n",
       "    .dataframe tbody tr th {\n",
       "        vertical-align: top;\n",
       "    }\n",
       "\n",
       "    .dataframe thead th {\n",
       "        text-align: right;\n",
       "    }\n",
       "</style>\n",
       "<table border=\"1\" class=\"dataframe\">\n",
       "  <thead>\n",
       "    <tr style=\"text-align: right;\">\n",
       "      <th></th>\n",
       "      <th>DocumentName</th>\n",
       "      <th>Sentences</th>\n",
       "    </tr>\n",
       "  </thead>\n",
       "  <tbody>\n",
       "    <tr>\n",
       "      <th>0</th>\n",
       "      <td>arxiv_unlabeled 1.txt</td>\n",
       "      <td>fitness functions based test cases very common...</td>\n",
       "    </tr>\n",
       "    <tr>\n",
       "      <th>1</th>\n",
       "      <td>arxiv_unlabeled 1.txt</td>\n",
       "      <td>this process assimilated learning task inferen...</td>\n",
       "    </tr>\n",
       "    <tr>\n",
       "      <th>2</th>\n",
       "      <td>arxiv_unlabeled 1.txt</td>\n",
       "      <td>this paper investigation two methods improve g...</td>\n",
       "    </tr>\n",
       "    <tr>\n",
       "      <th>3</th>\n",
       "      <td>arxiv_unlabeled 1.txt</td>\n",
       "      <td>results using gp binary classification setup s...</td>\n",
       "    </tr>\n",
       "    <tr>\n",
       "      <th>4</th>\n",
       "      <td>arxiv_unlabeled 1.txt</td>\n",
       "      <td>gp particularly suited problems assimilated le...</td>\n",
       "    </tr>\n",
       "  </tbody>\n",
       "</table>\n",
       "</div>"
      ],
      "text/plain": [
       "            DocumentName                                          Sentences\n",
       "0  arxiv_unlabeled 1.txt  fitness functions based test cases very common...\n",
       "1  arxiv_unlabeled 1.txt  this process assimilated learning task inferen...\n",
       "2  arxiv_unlabeled 1.txt  this paper investigation two methods improve g...\n",
       "3  arxiv_unlabeled 1.txt  results using gp binary classification setup s...\n",
       "4  arxiv_unlabeled 1.txt  gp particularly suited problems assimilated le..."
      ]
     },
     "execution_count": 20,
     "metadata": {},
     "output_type": "execute_result"
    }
   ],
   "source": [
    "test['Sentences']=test['Sentences'].apply(cleaner)\n",
    "test.head()"
   ]
  },
  {
   "cell_type": "code",
   "execution_count": 21,
   "metadata": {},
   "outputs": [
    {
     "name": "stdout",
     "output_type": "stream",
     "text": [
      "(35271,)\n"
     ]
    },
    {
     "name": "stderr",
     "output_type": "stream",
     "text": [
      "C:\\Users\\WIN 10\\anaconda3\\lib\\site-packages\\seaborn\\_decorators.py:36: FutureWarning: Pass the following variable as a keyword arg: x. From version 0.12, the only valid positional argument will be `data`, and passing other arguments without an explicit keyword will result in an error or misinterpretation.\n",
      "  warnings.warn(\n"
     ]
    },
    {
     "data": {
      "image/png": "[encoded data removed]",
      "text/plain": [
       "<Figure size 432x288 with 1 Axes>"
      ]
     },
     "metadata": {
      "needs_background": "light"
     },
     "output_type": "display_data"
    }
   ],
   "source": [
    "X_test=vectorizer.transform(test['Sentences'].values)\n",
    "y_test=lr.predict(X_test)\n",
    "y_test=pd.Series(y_test).map(decoder).values\n",
    "print(y_test.shape)\n",
    "sns.countplot(y_test)\n",
    "plt.show()"
   ]
  },
  {
   "cell_type": "code",
   "execution_count": 22,
   "metadata": {},
   "outputs": [
    {
     "name": "stdout",
     "output_type": "stream",
     "text": [
      "(35271,)\n"
     ]
    },
    {
     "name": "stderr",
     "output_type": "stream",
     "text": [
      "C:\\Users\\WIN 10\\anaconda3\\lib\\site-packages\\seaborn\\_decorators.py:36: FutureWarning: Pass the following variable as a keyword arg: x. From version 0.12, the only valid positional argument will be `data`, and passing other arguments without an explicit keyword will result in an error or misinterpretation.\n",
      "  warnings.warn(\n"
     ]
    },
    {
     "data": {
      "image/png": "[encoded data removed]",
      "text/plain": [
       "<Figure size 432x288 with 1 Axes>"
      ]
     },
     "metadata": {
      "needs_background": "light"
     },
     "output_type": "display_data"
    }
   ],
   "source": [
    "y_test_nb=clf.predict(X_test)\n",
    "y_test_nb=pd.Series(y_test_nb).map(decoder).values\n",
    "print(y_test_nb.shape)\n",
    "sns.countplot(y_test_nb)\n",
    "plt.show()"
   ]
  },
  {
   "cell_type": "markdown",
   "metadata": {},
   "source": [
    "## WRITING THE TEST DATA TO FILE"
   ]
  },
  {
   "cell_type": "code",
   "execution_count": 23,
   "metadata": {},
   "outputs": [
    {
     "name": "stderr",
     "output_type": "stream",
     "text": [
      "35271it [00:15, 2229.11it/s]\n"
     ]
    }
   ],
   "source": [
    "path_prev = None\n",
    "file = None\n",
    "for i,sentence in tqdm.tqdm(enumerate(test['Sentences'])):\n",
    "    pred=y_test[i]\n",
    "    folder,filename=test.iloc[i,0].split()\n",
    "    directory=\"SentenceCorpus/\"+folder+\"_predictions\"\n",
    "    path=directory+\"/\"+filename\n",
    "    if not os.path.exists(directory):\n",
    "        os.makedirs(directory)\n",
    "    if(path_prev is None or path_prev != path):\n",
    "        if(not file is None):\n",
    "            file.close()\n",
    "        file = open(path, 'w+')\n",
    "        path_prev = path\n",
    "    file.write(str(pred) + \"--: \" + sentence+\"\\n\")\n",
    "file.close()"
   ]
  },
  {
   "cell_type": "code",
   "execution_count": null,
   "metadata": {},
   "outputs": [],
   "source": []
  }
 ],
 "metadata": {
  "kernelspec": {
   "display_name": "Python 3 (ipykernel)",
   "language": "python",
   "name": "python3"
  },
  "language_info": {
   "codemirror_mode": {
    "name": "ipython",
    "version": 3
   },
   "file_extension": ".py",
   "mimetype": "text/x-python",
   "name": "python",
   "nbconvert_exporter": "python",
   "pygments_lexer": "ipython3",
   "version": "3.9.12"
  }
 },
 "nbformat": 4,
 "nbformat_minor": 2
}
